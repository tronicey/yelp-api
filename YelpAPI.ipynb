{
 "cells": [
  {
   "cell_type": "code",
   "execution_count": 1,
   "id": "49cf6c2e-4079-4a7c-9afb-882db2393080",
   "metadata": {},
   "outputs": [],
   "source": [
    "import pandas as pd\n",
    "from sqlalchemy import create_engine\n",
    "from sqlalchemy_utils import create_database, database_exists\n",
    "import pymysql\n",
    "pymysql.install_as_MySQLdb()\n",
    "from urllib.parse import quote_plus as urlquote\n",
    "from sqlalchemy.engine import create_engine# Create the sqlalchemy engine and connection\n"
   ]
  },
  {
   "cell_type": "code",
   "execution_count": 2,
   "id": "dd89b27b-fcb2-461b-91f8-874b660d74e9",
   "metadata": {},
   "outputs": [
    {
     "data": {
      "text/plain": [
       "dict_keys(['client-id', 'api-key'])"
      ]
     },
     "execution_count": 2,
     "metadata": {},
     "output_type": "execute_result"
    }
   ],
   "source": [
    "import json\n",
    "with open('/Users/troniceray/.secret/yelp_api.json') as f: #change the path to match YOUR path!!\n",
    "    login = json.load(f)\n",
    "login.keys()\n"
   ]
  },
  {
   "cell_type": "code",
   "execution_count": 3,
   "id": "afe8efde-116e-4fcc-863e-48df4c6da8c6",
   "metadata": {},
   "outputs": [
    {
     "name": "stdout",
     "output_type": "stream",
     "text": [
      "Requirement already satisfied: yelpapi in /opt/homebrew/Caskroom/miniforge/base/envs/dojo-env/lib/python3.10/site-packages (2.5.1)\n",
      "Requirement already satisfied: requests in /opt/homebrew/Caskroom/miniforge/base/envs/dojo-env/lib/python3.10/site-packages (from yelpapi) (2.29.0)\n",
      "Requirement already satisfied: idna<4,>=2.5 in /opt/homebrew/Caskroom/miniforge/base/envs/dojo-env/lib/python3.10/site-packages (from requests->yelpapi) (3.4)\n",
      "Requirement already satisfied: urllib3<1.27,>=1.21.1 in /opt/homebrew/Caskroom/miniforge/base/envs/dojo-env/lib/python3.10/site-packages (from requests->yelpapi) (1.26.15)\n",
      "Requirement already satisfied: charset-normalizer<4,>=2 in /opt/homebrew/Caskroom/miniforge/base/envs/dojo-env/lib/python3.10/site-packages (from requests->yelpapi) (2.0.4)\n",
      "Requirement already satisfied: certifi>=2017.4.17 in /opt/homebrew/Caskroom/miniforge/base/envs/dojo-env/lib/python3.10/site-packages (from requests->yelpapi) (2023.5.7)\n"
     ]
    }
   ],
   "source": [
    "!pip install yelpapi"
   ]
  },
  {
   "cell_type": "code",
   "execution_count": 4,
   "id": "6cb3c480-ab58-46dd-a26a-29c45b0a764c",
   "metadata": {},
   "outputs": [
    {
     "data": {
      "text/plain": [
       "<yelpapi.yelpapi.YelpAPI at 0x1052069e0>"
      ]
     },
     "execution_count": 4,
     "metadata": {},
     "output_type": "execute_result"
    }
   ],
   "source": [
    "from yelpapi import YelpAPI\n",
    "yelp_api = YelpAPI(login['api-key'], timeout_s=5.0)\n",
    "yelp_api\n"
   ]
  },
  {
   "cell_type": "code",
   "execution_count": 5,
   "id": "c2a06ee4-05bc-4d44-bf3b-89242245c87a",
   "metadata": {},
   "outputs": [
    {
     "name": "stdout",
     "output_type": "stream",
     "text": [
      "<class 'dict'>\n"
     ]
    },
    {
     "data": {
      "text/plain": [
       "dict_keys(['businesses', 'total', 'region'])"
      ]
     },
     "execution_count": 5,
     "metadata": {},
     "output_type": "execute_result"
    }
   ],
   "source": [
    "# Quick Test Query\n",
    "results = yelp_api.search_query(location='Baltimore, MD',\n",
    "                                       term='Crab Cake')\n",
    "print(type(results))\n",
    "results.keys()\n"
   ]
  },
  {
   "cell_type": "code",
   "execution_count": 6,
   "id": "a57fc904-c551-4065-b1ab-dfc95d428ed1",
   "metadata": {},
   "outputs": [
    {
     "data": {
      "text/plain": [
       "dict"
      ]
     },
     "execution_count": 6,
     "metadata": {},
     "output_type": "execute_result"
    }
   ],
   "source": [
    "# Open the jsonfile and display the first level of keys\n",
    "# open API results WITH json module\n",
    "import json\n",
    "with open('/Users/troniceray/.secret/yelp_api.json') as f:   #adjust for your path\n",
    "    json_file = json.load(f)\n",
    "    \n",
    "## What type is top-level of json?\n",
    "type(json_file)\n"
   ]
  },
  {
   "cell_type": "code",
   "execution_count": 7,
   "id": "08312e18-6770-4c13-ad0d-a1c1a9c88734",
   "metadata": {},
   "outputs": [],
   "source": [
    "# set our API call parameters \n",
    "LOCATION = 'San Antonio, TX'\n",
    "TERM = 'sushi'"
   ]
  },
  {
   "cell_type": "code",
   "execution_count": 8,
   "id": "2904f5a6-9c7e-4b43-84fc-86f428e5842d",
   "metadata": {},
   "outputs": [
    {
     "data": {
      "text/plain": [
       "'Data/results_in_progress_sushi_SA.json'"
      ]
     },
     "execution_count": 8,
     "metadata": {},
     "output_type": "execute_result"
    }
   ],
   "source": [
    "# Specifying JSON_FILE filename (can include a folder)\n",
    "# include the search terms in the filename\n",
    "JSON_FILE = \"Data/results_in_progress_sushi_SA.json\"\n",
    "JSON_FILE\n"
   ]
  },
  {
   "cell_type": "code",
   "execution_count": 9,
   "id": "b196d5ea-f729-4213-b773-643406bc4944",
   "metadata": {},
   "outputs": [],
   "source": [
    "import os, json, math, time"
   ]
  },
  {
   "cell_type": "code",
   "execution_count": 10,
   "id": "f1f49671-95bf-4253-afc5-65b4fa8ddca4",
   "metadata": {},
   "outputs": [
    {
     "name": "stdout",
     "output_type": "stream",
     "text": [
      "[i] Data/results_in_progress_sushi_SA.json already exists.\n"
     ]
    }
   ],
   "source": [
    "## Check if JSON_FILE exists\n",
    "file_exists = os.path.isfile(JSON_FILE)\n",
    "## If it does not exist: \n",
    "if file_exists == False:\n",
    "    \n",
    "    ## CREATE ANY NEEDED FOLDERS\n",
    "    # Get the Folder Name only\n",
    "    folder = os.path.dirname(JSON_FILE)\n",
    "    ## If JSON_FILE included a folder:\n",
    "    if len(folder)>0:\n",
    "        # create the folder\n",
    "        os.makedirs(folder,exist_ok=True)\n",
    "        \n",
    "        \n",
    "    ## INFORM USER AND SAVE EMPTY LIST\n",
    "    print(f'[i] {JSON_FILE} not found. Saving empty list to file.')\n",
    "    \n",
    "    \n",
    "    # save an empty list\n",
    "    with open(JSON_FILE,'w') as f:\n",
    "        json.dump([],f)  \n",
    "# If it exists, inform user\n",
    "else:\n",
    "    print(f\"[i] {JSON_FILE} already exists.\")"
   ]
  },
  {
   "cell_type": "code",
   "execution_count": 11,
   "id": "bda39277-f047-47cc-9640-868b7f7abe33",
   "metadata": {},
   "outputs": [
    {
     "name": "stdout",
     "output_type": "stream",
     "text": [
      "- 0 previous results found.\n"
     ]
    }
   ],
   "source": [
    "## Load previous results and use len of results for offset\n",
    "with open(JSON_FILE,'r') as f:\n",
    "    previous_results = json.load(f)\n",
    "    \n",
    "## set offset based on previous results\n",
    "n_results = len(previous_results)\n",
    "print(f'- {n_results} previous results found.')\n"
   ]
  },
  {
   "cell_type": "code",
   "execution_count": 12,
   "id": "0f48f833-f06f-4e6d-88be-97b6fe1e5243",
   "metadata": {},
   "outputs": [
    {
     "data": {
      "text/plain": [
       "dict_keys(['businesses', 'total', 'region'])"
      ]
     },
     "execution_count": 12,
     "metadata": {},
     "output_type": "execute_result"
    }
   ],
   "source": [
    "# use our yelp_api variable's search_query method to perform our API call\n",
    "results = yelp_api.search_query(location=LOCATION,\n",
    "                                term=TERM,\n",
    "                               offset=n_results)\n",
    "results.keys()\n"
   ]
  },
  {
   "cell_type": "code",
   "execution_count": 13,
   "id": "2e81c5df-16d5-4ad2-b5ba-519f5c10af95",
   "metadata": {},
   "outputs": [
    {
     "data": {
      "text/plain": [
       "287"
      ]
     },
     "execution_count": 13,
     "metadata": {},
     "output_type": "execute_result"
    }
   ],
   "source": [
    "## How many results total?\n",
    "total_results = results['total']\n",
    "total_results\n"
   ]
  },
  {
   "cell_type": "code",
   "execution_count": 14,
   "id": "2ad1cfb6-4eb8-4284-a834-beb77ed9cd3a",
   "metadata": {},
   "outputs": [
    {
     "data": {
      "text/plain": [
       "20"
      ]
     },
     "execution_count": 14,
     "metadata": {},
     "output_type": "execute_result"
    }
   ],
   "source": [
    "## How many did we get the details for?\n",
    "results_per_page = len(results['businesses'])\n",
    "results_per_page\n"
   ]
  },
  {
   "cell_type": "code",
   "execution_count": 15,
   "id": "ad65f33c-b402-41b6-bc6d-b8894097f40d",
   "metadata": {},
   "outputs": [
    {
     "data": {
      "text/plain": [
       "15"
      ]
     },
     "execution_count": 15,
     "metadata": {},
     "output_type": "execute_result"
    }
   ],
   "source": [
    "# Import additional packages for controlling our loop\n",
    "import time, math\n",
    "# Use math.ceil to round up for the total number of pages of results.\n",
    "n_pages = math.ceil((results['total']-n_results)/ results_per_page)\n",
    "n_pages\n"
   ]
  },
  {
   "cell_type": "code",
   "execution_count": 16,
   "id": "289b26db-68b7-4604-9d1d-4a0a994804a2",
   "metadata": {},
   "outputs": [],
   "source": [
    "# join new results with old list with extend and save to file\n",
    "previous_results.extend(results['businesses'])  \n",
    "with open(JSON_FILE,'w') as f:\n",
    "     json.dump(previous_results,f)"
   ]
  },
  {
   "cell_type": "code",
   "execution_count": 17,
   "id": "d9375dea-1441-446d-aaf5-34252a7397af",
   "metadata": {},
   "outputs": [
    {
     "name": "stdout",
     "output_type": "stream",
     "text": [
      "Requirement already satisfied: tqdm in /opt/homebrew/Caskroom/miniforge/base/envs/dojo-env/lib/python3.10/site-packages (4.65.0)\n",
      "Note: you may need to restart the kernel to use updated packages.\n"
     ]
    }
   ],
   "source": [
    "pip install tqdm"
   ]
  },
  {
   "cell_type": "code",
   "execution_count": 18,
   "id": "18e902ab-fded-4d0d-a9a6-7f4292f2352a",
   "metadata": {},
   "outputs": [
    {
     "data": {
      "application/vnd.jupyter.widget-view+json": {
       "model_id": "3dfeae3003b148a2ba34e360be33861b",
       "version_major": 2,
       "version_minor": 0
      },
      "text/plain": [
       "  0%|          | 0/15 [00:00<?, ?it/s]"
      ]
     },
     "metadata": {},
     "output_type": "display_data"
    }
   ],
   "source": [
    "from tqdm.notebook import tqdm_notebook\n",
    "import time\n",
    "for i in tqdm_notebook(range(n_pages)):\n",
    "    # adds 200 ms pause\n",
    "    time.sleep(.2) "
   ]
  },
  {
   "cell_type": "code",
   "execution_count": 19,
   "id": "736d7cc3-24aa-4e5d-8cee-ff2df0b31081",
   "metadata": {},
   "outputs": [
    {
     "data": {
      "application/vnd.jupyter.widget-view+json": {
       "model_id": "8e2110d56e6141f9b543696a96aed25e",
       "version_major": 2,
       "version_minor": 0
      },
      "text/plain": [
       "  0%|          | 0/15 [00:00<?, ?it/s]"
      ]
     },
     "metadata": {},
     "output_type": "display_data"
    }
   ],
   "source": [
    "for i in tqdm_notebook( range(1,n_pages+1)):\n",
    "    \n",
    "    ## Read in results in progress file and check the length\n",
    "    with open(JSON_FILE, 'r') as f:\n",
    "        previous_results = json.load(f)\n",
    "    ## save number of results for to use as offset\n",
    "    n_results = len(previous_results)\n",
    "    ## use n_results as the OFFSET \n",
    "    results = yelp_api.search_query(location=LOCATION,\n",
    "                                    term=TERM, \n",
    "                                    offset=n_results)\n",
    "    \n",
    "    ## append new results and save to file\n",
    "    previous_results.extend(results['businesses'])\n",
    "    \n",
    "    with open(JSON_FILE,'w') as f:\n",
    "        json.dump(previous_results,f)\n",
    "    \n",
    "    # add a 200ms pause\n",
    "    time.sleep(.2)\n"
   ]
  },
  {
   "cell_type": "code",
   "execution_count": 20,
   "id": "138a794e-f831-49a0-bdf1-53ff815203eb",
   "metadata": {},
   "outputs": [
    {
     "data": {
      "text/html": [
       "<div>\n",
       "<style scoped>\n",
       "    .dataframe tbody tr th:only-of-type {\n",
       "        vertical-align: middle;\n",
       "    }\n",
       "\n",
       "    .dataframe tbody tr th {\n",
       "        vertical-align: top;\n",
       "    }\n",
       "\n",
       "    .dataframe thead th {\n",
       "        text-align: right;\n",
       "    }\n",
       "</style>\n",
       "<table border=\"1\" class=\"dataframe\">\n",
       "  <thead>\n",
       "    <tr style=\"text-align: right;\">\n",
       "      <th></th>\n",
       "      <th>id</th>\n",
       "      <th>alias</th>\n",
       "      <th>name</th>\n",
       "      <th>image_url</th>\n",
       "      <th>is_closed</th>\n",
       "      <th>url</th>\n",
       "      <th>review_count</th>\n",
       "      <th>categories</th>\n",
       "      <th>rating</th>\n",
       "      <th>coordinates</th>\n",
       "      <th>transactions</th>\n",
       "      <th>price</th>\n",
       "      <th>location</th>\n",
       "      <th>phone</th>\n",
       "      <th>display_phone</th>\n",
       "      <th>distance</th>\n",
       "    </tr>\n",
       "  </thead>\n",
       "  <tbody>\n",
       "    <tr>\n",
       "      <th>0</th>\n",
       "      <td>8aUAFZSENBgdC17hPpKp5g</td>\n",
       "      <td>wild-goji-restaurant-and-bar-san-antonio-3</td>\n",
       "      <td>Wild Goji Restaurant &amp; Bar</td>\n",
       "      <td>https://s3-media1.fl.yelpcdn.com/bphoto/KApU2Q...</td>\n",
       "      <td>False</td>\n",
       "      <td>https://www.yelp.com/biz/wild-goji-restaurant-...</td>\n",
       "      <td>1202</td>\n",
       "      <td>[{'alias': 'asianfusion', 'title': 'Asian Fusi...</td>\n",
       "      <td>4.5</td>\n",
       "      <td>{'latitude': 29.522726203712143, 'longitude': ...</td>\n",
       "      <td>[restaurant_reservation, delivery]</td>\n",
       "      <td>$$</td>\n",
       "      <td>{'address1': '7115 Blanco Rd', 'address2': 'St...</td>\n",
       "      <td>+12102770638</td>\n",
       "      <td>(210) 277-0638</td>\n",
       "      <td>3237.383488</td>\n",
       "    </tr>\n",
       "    <tr>\n",
       "      <th>1</th>\n",
       "      <td>0KczvSbrDfq9lHm7ZtF2rQ</td>\n",
       "      <td>piranha-izakaya-san-antonio-3</td>\n",
       "      <td>Piranha Izakaya</td>\n",
       "      <td>https://s3-media1.fl.yelpcdn.com/bphoto/ql-JIa...</td>\n",
       "      <td>False</td>\n",
       "      <td>https://www.yelp.com/biz/piranha-izakaya-san-a...</td>\n",
       "      <td>484</td>\n",
       "      <td>[{'alias': 'ramen', 'title': 'Ramen'}, {'alias...</td>\n",
       "      <td>4.5</td>\n",
       "      <td>{'latitude': 29.49438, 'longitude': -98.479}</td>\n",
       "      <td>[restaurant_reservation, delivery]</td>\n",
       "      <td>$$</td>\n",
       "      <td>{'address1': '260 E Basse Rd', 'address2': 'St...</td>\n",
       "      <td>+12108221088</td>\n",
       "      <td>(210) 822-1088</td>\n",
       "      <td>3439.453518</td>\n",
       "    </tr>\n",
       "    <tr>\n",
       "      <th>2</th>\n",
       "      <td>l7tVQWHt14p6fcGdUvx3xw</td>\n",
       "      <td>shiro-japanese-sushi-bistro-san-antonio</td>\n",
       "      <td>Shiro Japanese Sushi Bistro</td>\n",
       "      <td>https://s3-media3.fl.yelpcdn.com/bphoto/MBJHgv...</td>\n",
       "      <td>False</td>\n",
       "      <td>https://www.yelp.com/biz/shiro-japanese-sushi-...</td>\n",
       "      <td>221</td>\n",
       "      <td>[{'alias': 'sushi', 'title': 'Sushi Bars'}, {'...</td>\n",
       "      <td>4.5</td>\n",
       "      <td>{'latitude': 29.4361425988757, 'longitude': -9...</td>\n",
       "      <td>[delivery]</td>\n",
       "      <td>$$$</td>\n",
       "      <td>{'address1': '107 W Jones Ave', 'address2': ''...</td>\n",
       "      <td></td>\n",
       "      <td></td>\n",
       "      <td>7240.257501</td>\n",
       "    </tr>\n",
       "    <tr>\n",
       "      <th>3</th>\n",
       "      <td>XLAUQDLaKVt6zkoY85pCKg</td>\n",
       "      <td>toroko-sushi-san-antonio</td>\n",
       "      <td>Toro'Ko Sushi</td>\n",
       "      <td>https://s3-media1.fl.yelpcdn.com/bphoto/oApJJY...</td>\n",
       "      <td>False</td>\n",
       "      <td>https://www.yelp.com/biz/toroko-sushi-san-anto...</td>\n",
       "      <td>19</td>\n",
       "      <td>[{'alias': 'sushi', 'title': 'Sushi Bars'}, {'...</td>\n",
       "      <td>4.5</td>\n",
       "      <td>{'latitude': 29.57580186090349, 'longitude': -...</td>\n",
       "      <td>[restaurant_reservation, pickup, delivery]</td>\n",
       "      <td>NaN</td>\n",
       "      <td>{'address1': '14510 NW Military Hwy', 'address...</td>\n",
       "      <td>+12102778004</td>\n",
       "      <td>(210) 277-8004</td>\n",
       "      <td>9507.000189</td>\n",
       "    </tr>\n",
       "    <tr>\n",
       "      <th>4</th>\n",
       "      <td>0IztAsYiVX5GRh39yW0fkw</td>\n",
       "      <td>sushishima-castle-hills-castle-hills-2</td>\n",
       "      <td>Sushishima - Castle Hills</td>\n",
       "      <td>https://s3-media3.fl.yelpcdn.com/bphoto/AkvtSt...</td>\n",
       "      <td>False</td>\n",
       "      <td>https://www.yelp.com/biz/sushishima-castle-hil...</td>\n",
       "      <td>236</td>\n",
       "      <td>[{'alias': 'japanese', 'title': 'Japanese'}, {...</td>\n",
       "      <td>4.5</td>\n",
       "      <td>{'latitude': 29.535244301536043, 'longitude': ...</td>\n",
       "      <td>[pickup]</td>\n",
       "      <td>$$</td>\n",
       "      <td>{'address1': '2211 NW Military Hwy', 'address2...</td>\n",
       "      <td>+12108880363</td>\n",
       "      <td>(210) 888-0363</td>\n",
       "      <td>4614.772847</td>\n",
       "    </tr>\n",
       "  </tbody>\n",
       "</table>\n",
       "</div>"
      ],
      "text/plain": [
       "                       id                                       alias  \\\n",
       "0  8aUAFZSENBgdC17hPpKp5g  wild-goji-restaurant-and-bar-san-antonio-3   \n",
       "1  0KczvSbrDfq9lHm7ZtF2rQ               piranha-izakaya-san-antonio-3   \n",
       "2  l7tVQWHt14p6fcGdUvx3xw     shiro-japanese-sushi-bistro-san-antonio   \n",
       "3  XLAUQDLaKVt6zkoY85pCKg                    toroko-sushi-san-antonio   \n",
       "4  0IztAsYiVX5GRh39yW0fkw      sushishima-castle-hills-castle-hills-2   \n",
       "\n",
       "                          name  \\\n",
       "0   Wild Goji Restaurant & Bar   \n",
       "1              Piranha Izakaya   \n",
       "2  Shiro Japanese Sushi Bistro   \n",
       "3                Toro'Ko Sushi   \n",
       "4    Sushishima - Castle Hills   \n",
       "\n",
       "                                           image_url  is_closed  \\\n",
       "0  https://s3-media1.fl.yelpcdn.com/bphoto/KApU2Q...      False   \n",
       "1  https://s3-media1.fl.yelpcdn.com/bphoto/ql-JIa...      False   \n",
       "2  https://s3-media3.fl.yelpcdn.com/bphoto/MBJHgv...      False   \n",
       "3  https://s3-media1.fl.yelpcdn.com/bphoto/oApJJY...      False   \n",
       "4  https://s3-media3.fl.yelpcdn.com/bphoto/AkvtSt...      False   \n",
       "\n",
       "                                                 url  review_count  \\\n",
       "0  https://www.yelp.com/biz/wild-goji-restaurant-...          1202   \n",
       "1  https://www.yelp.com/biz/piranha-izakaya-san-a...           484   \n",
       "2  https://www.yelp.com/biz/shiro-japanese-sushi-...           221   \n",
       "3  https://www.yelp.com/biz/toroko-sushi-san-anto...            19   \n",
       "4  https://www.yelp.com/biz/sushishima-castle-hil...           236   \n",
       "\n",
       "                                          categories  rating  \\\n",
       "0  [{'alias': 'asianfusion', 'title': 'Asian Fusi...     4.5   \n",
       "1  [{'alias': 'ramen', 'title': 'Ramen'}, {'alias...     4.5   \n",
       "2  [{'alias': 'sushi', 'title': 'Sushi Bars'}, {'...     4.5   \n",
       "3  [{'alias': 'sushi', 'title': 'Sushi Bars'}, {'...     4.5   \n",
       "4  [{'alias': 'japanese', 'title': 'Japanese'}, {...     4.5   \n",
       "\n",
       "                                         coordinates  \\\n",
       "0  {'latitude': 29.522726203712143, 'longitude': ...   \n",
       "1       {'latitude': 29.49438, 'longitude': -98.479}   \n",
       "2  {'latitude': 29.4361425988757, 'longitude': -9...   \n",
       "3  {'latitude': 29.57580186090349, 'longitude': -...   \n",
       "4  {'latitude': 29.535244301536043, 'longitude': ...   \n",
       "\n",
       "                                 transactions price  \\\n",
       "0          [restaurant_reservation, delivery]    $$   \n",
       "1          [restaurant_reservation, delivery]    $$   \n",
       "2                                  [delivery]   $$$   \n",
       "3  [restaurant_reservation, pickup, delivery]   NaN   \n",
       "4                                    [pickup]    $$   \n",
       "\n",
       "                                            location         phone  \\\n",
       "0  {'address1': '7115 Blanco Rd', 'address2': 'St...  +12102770638   \n",
       "1  {'address1': '260 E Basse Rd', 'address2': 'St...  +12108221088   \n",
       "2  {'address1': '107 W Jones Ave', 'address2': ''...                 \n",
       "3  {'address1': '14510 NW Military Hwy', 'address...  +12102778004   \n",
       "4  {'address1': '2211 NW Military Hwy', 'address2...  +12108880363   \n",
       "\n",
       "    display_phone     distance  \n",
       "0  (210) 277-0638  3237.383488  \n",
       "1  (210) 822-1088  3439.453518  \n",
       "2                  7240.257501  \n",
       "3  (210) 277-8004  9507.000189  \n",
       "4  (210) 888-0363  4614.772847  "
      ]
     },
     "metadata": {},
     "output_type": "display_data"
    },
    {
     "data": {
      "text/html": [
       "<div>\n",
       "<style scoped>\n",
       "    .dataframe tbody tr th:only-of-type {\n",
       "        vertical-align: middle;\n",
       "    }\n",
       "\n",
       "    .dataframe tbody tr th {\n",
       "        vertical-align: top;\n",
       "    }\n",
       "\n",
       "    .dataframe thead th {\n",
       "        text-align: right;\n",
       "    }\n",
       "</style>\n",
       "<table border=\"1\" class=\"dataframe\">\n",
       "  <thead>\n",
       "    <tr style=\"text-align: right;\">\n",
       "      <th></th>\n",
       "      <th>id</th>\n",
       "      <th>alias</th>\n",
       "      <th>name</th>\n",
       "      <th>image_url</th>\n",
       "      <th>is_closed</th>\n",
       "      <th>url</th>\n",
       "      <th>review_count</th>\n",
       "      <th>categories</th>\n",
       "      <th>rating</th>\n",
       "      <th>coordinates</th>\n",
       "      <th>transactions</th>\n",
       "      <th>price</th>\n",
       "      <th>location</th>\n",
       "      <th>phone</th>\n",
       "      <th>display_phone</th>\n",
       "      <th>distance</th>\n",
       "    </tr>\n",
       "  </thead>\n",
       "  <tbody>\n",
       "    <tr>\n",
       "      <th>282</th>\n",
       "      <td>Q9taWRIDBq3FALQiht7kUw</td>\n",
       "      <td>the-cheesecake-factory-san-antonio-san-antonio-12</td>\n",
       "      <td>The Cheesecake Factory</td>\n",
       "      <td>https://s3-media2.fl.yelpcdn.com/bphoto/Q1KdLo...</td>\n",
       "      <td>False</td>\n",
       "      <td>https://www.yelp.com/biz/the-cheesecake-factor...</td>\n",
       "      <td>609</td>\n",
       "      <td>[{'alias': 'desserts', 'title': 'Desserts'}, {...</td>\n",
       "      <td>3.0</td>\n",
       "      <td>{'latitude': 29.592382, 'longitude': -98.610858}</td>\n",
       "      <td>[]</td>\n",
       "      <td>$$</td>\n",
       "      <td>{'address1': '15900 La Cantera Pkwy', 'address...</td>\n",
       "      <td>+12105581900</td>\n",
       "      <td>(210) 558-1900</td>\n",
       "      <td>14341.266777</td>\n",
       "    </tr>\n",
       "    <tr>\n",
       "      <th>283</th>\n",
       "      <td>bcFjXrZZ_dbIoGZNVxmSXA</td>\n",
       "      <td>h-e-b-plus-san-antonio-14</td>\n",
       "      <td>H-E-B plus!</td>\n",
       "      <td>https://s3-media3.fl.yelpcdn.com/bphoto/1RW4hx...</td>\n",
       "      <td>False</td>\n",
       "      <td>https://www.yelp.com/biz/h-e-b-plus-san-antoni...</td>\n",
       "      <td>22</td>\n",
       "      <td>[{'alias': 'grocery', 'title': 'Grocery'}]</td>\n",
       "      <td>3.0</td>\n",
       "      <td>{'latitude': 29.379990584309308, 'longitude': ...</td>\n",
       "      <td>[]</td>\n",
       "      <td>$</td>\n",
       "      <td>{'address1': '4100 S New Braunfels Ave', 'addr...</td>\n",
       "      <td>+12105313100</td>\n",
       "      <td>(210) 531-3100</td>\n",
       "      <td>13846.739121</td>\n",
       "    </tr>\n",
       "    <tr>\n",
       "      <th>284</th>\n",
       "      <td>-IvBKbHtdxN7s-1VovOxBg</td>\n",
       "      <td>h-e-b-san-antonio-63</td>\n",
       "      <td>H-E-B</td>\n",
       "      <td>https://s3-media2.fl.yelpcdn.com/bphoto/3MPGwR...</td>\n",
       "      <td>False</td>\n",
       "      <td>https://www.yelp.com/biz/h-e-b-san-antonio-63?...</td>\n",
       "      <td>76</td>\n",
       "      <td>[{'alias': 'grocery', 'title': 'Grocery'}]</td>\n",
       "      <td>3.0</td>\n",
       "      <td>{'latitude': 29.5622973331857, 'longitude': -9...</td>\n",
       "      <td>[]</td>\n",
       "      <td>$$</td>\n",
       "      <td>{'address1': '12777 Ih 10 W', 'address2': '', ...</td>\n",
       "      <td>+12105583981</td>\n",
       "      <td>(210) 558-3981</td>\n",
       "      <td>10404.742043</td>\n",
       "    </tr>\n",
       "    <tr>\n",
       "      <th>285</th>\n",
       "      <td>thoppZoZ0yzdlz-8RexoFg</td>\n",
       "      <td>topgolf-san-antonio</td>\n",
       "      <td>Topgolf</td>\n",
       "      <td>https://s3-media1.fl.yelpcdn.com/bphoto/EaJhU0...</td>\n",
       "      <td>False</td>\n",
       "      <td>https://www.yelp.com/biz/topgolf-san-antonio?a...</td>\n",
       "      <td>501</td>\n",
       "      <td>[{'alias': 'newamerican', 'title': 'New Americ...</td>\n",
       "      <td>3.5</td>\n",
       "      <td>{'latitude': 29.59409054130535, 'longitude': -...</td>\n",
       "      <td>[delivery]</td>\n",
       "      <td>$$</td>\n",
       "      <td>{'address1': '5539 N Lp 1604 W', 'address2': N...</td>\n",
       "      <td>+12102022694</td>\n",
       "      <td>(210) 202-2694</td>\n",
       "      <td>13550.982887</td>\n",
       "    </tr>\n",
       "    <tr>\n",
       "      <th>286</th>\n",
       "      <td>zGljSEDub70vPTe0D7JWxw</td>\n",
       "      <td>mia-marcos-pizza-selma</td>\n",
       "      <td>Mia Marco's Pizza</td>\n",
       "      <td>https://s3-media3.fl.yelpcdn.com/bphoto/Og1WQw...</td>\n",
       "      <td>False</td>\n",
       "      <td>https://www.yelp.com/biz/mia-marcos-pizza-selm...</td>\n",
       "      <td>199</td>\n",
       "      <td>[{'alias': 'foodtrucks', 'title': 'Food Trucks...</td>\n",
       "      <td>4.5</td>\n",
       "      <td>{'latitude': 29.584521, 'longitude': -98.306215}</td>\n",
       "      <td>[delivery]</td>\n",
       "      <td>$$</td>\n",
       "      <td>{'address1': '15939 IH 35 N', 'address2': '', ...</td>\n",
       "      <td>+12106678441</td>\n",
       "      <td>(210) 667-8441</td>\n",
       "      <td>22493.871237</td>\n",
       "    </tr>\n",
       "  </tbody>\n",
       "</table>\n",
       "</div>"
      ],
      "text/plain": [
       "                         id  \\\n",
       "282  Q9taWRIDBq3FALQiht7kUw   \n",
       "283  bcFjXrZZ_dbIoGZNVxmSXA   \n",
       "284  -IvBKbHtdxN7s-1VovOxBg   \n",
       "285  thoppZoZ0yzdlz-8RexoFg   \n",
       "286  zGljSEDub70vPTe0D7JWxw   \n",
       "\n",
       "                                                 alias  \\\n",
       "282  the-cheesecake-factory-san-antonio-san-antonio-12   \n",
       "283                          h-e-b-plus-san-antonio-14   \n",
       "284                               h-e-b-san-antonio-63   \n",
       "285                                topgolf-san-antonio   \n",
       "286                             mia-marcos-pizza-selma   \n",
       "\n",
       "                       name  \\\n",
       "282  The Cheesecake Factory   \n",
       "283             H-E-B plus!   \n",
       "284                   H-E-B   \n",
       "285                 Topgolf   \n",
       "286       Mia Marco's Pizza   \n",
       "\n",
       "                                             image_url  is_closed  \\\n",
       "282  https://s3-media2.fl.yelpcdn.com/bphoto/Q1KdLo...      False   \n",
       "283  https://s3-media3.fl.yelpcdn.com/bphoto/1RW4hx...      False   \n",
       "284  https://s3-media2.fl.yelpcdn.com/bphoto/3MPGwR...      False   \n",
       "285  https://s3-media1.fl.yelpcdn.com/bphoto/EaJhU0...      False   \n",
       "286  https://s3-media3.fl.yelpcdn.com/bphoto/Og1WQw...      False   \n",
       "\n",
       "                                                   url  review_count  \\\n",
       "282  https://www.yelp.com/biz/the-cheesecake-factor...           609   \n",
       "283  https://www.yelp.com/biz/h-e-b-plus-san-antoni...            22   \n",
       "284  https://www.yelp.com/biz/h-e-b-san-antonio-63?...            76   \n",
       "285  https://www.yelp.com/biz/topgolf-san-antonio?a...           501   \n",
       "286  https://www.yelp.com/biz/mia-marcos-pizza-selm...           199   \n",
       "\n",
       "                                            categories  rating  \\\n",
       "282  [{'alias': 'desserts', 'title': 'Desserts'}, {...     3.0   \n",
       "283         [{'alias': 'grocery', 'title': 'Grocery'}]     3.0   \n",
       "284         [{'alias': 'grocery', 'title': 'Grocery'}]     3.0   \n",
       "285  [{'alias': 'newamerican', 'title': 'New Americ...     3.5   \n",
       "286  [{'alias': 'foodtrucks', 'title': 'Food Trucks...     4.5   \n",
       "\n",
       "                                           coordinates transactions price  \\\n",
       "282   {'latitude': 29.592382, 'longitude': -98.610858}           []    $$   \n",
       "283  {'latitude': 29.379990584309308, 'longitude': ...           []     $   \n",
       "284  {'latitude': 29.5622973331857, 'longitude': -9...           []    $$   \n",
       "285  {'latitude': 29.59409054130535, 'longitude': -...   [delivery]    $$   \n",
       "286   {'latitude': 29.584521, 'longitude': -98.306215}   [delivery]    $$   \n",
       "\n",
       "                                              location         phone  \\\n",
       "282  {'address1': '15900 La Cantera Pkwy', 'address...  +12105581900   \n",
       "283  {'address1': '4100 S New Braunfels Ave', 'addr...  +12105313100   \n",
       "284  {'address1': '12777 Ih 10 W', 'address2': '', ...  +12105583981   \n",
       "285  {'address1': '5539 N Lp 1604 W', 'address2': N...  +12102022694   \n",
       "286  {'address1': '15939 IH 35 N', 'address2': '', ...  +12106678441   \n",
       "\n",
       "      display_phone      distance  \n",
       "282  (210) 558-1900  14341.266777  \n",
       "283  (210) 531-3100  13846.739121  \n",
       "284  (210) 558-3981  10404.742043  \n",
       "285  (210) 202-2694  13550.982887  \n",
       "286  (210) 667-8441  22493.871237  "
      ]
     },
     "metadata": {},
     "output_type": "display_data"
    }
   ],
   "source": [
    "# load final results\n",
    "final_df = pd.read_json(JSON_FILE)\n",
    "display(final_df.head(), final_df.tail())"
   ]
  },
  {
   "cell_type": "code",
   "execution_count": 22,
   "id": "fe1f7ee3-8652-4842-8a50-83cd8ebbf773",
   "metadata": {},
   "outputs": [],
   "source": [
    "# save the final results to a compressed csv\n",
    "final_df.to_csv('Data/final_results_sushi_SA.csv.gz', compression='gzip',index=False)\n"
   ]
  },
  {
   "cell_type": "code",
   "execution_count": null,
   "id": "41da3fd7-8e5c-4297-929e-9bc468d73fa4",
   "metadata": {},
   "outputs": [],
   "source": []
  }
 ],
 "metadata": {
  "kernelspec": {
   "display_name": "Python 3 (ipykernel)",
   "language": "python",
   "name": "python3"
  },
  "language_info": {
   "codemirror_mode": {
    "name": "ipython",
    "version": 3
   },
   "file_extension": ".py",
   "mimetype": "text/x-python",
   "name": "python",
   "nbconvert_exporter": "python",
   "pygments_lexer": "ipython3",
   "version": "3.10.10"
  },
  "widgets": {
   "application/vnd.jupyter.widget-state+json": {
    "state": {
     "033aa4240e9d45b9b525b5becf5582fc": {
      "model_module": "@jupyter-widgets/controls",
      "model_module_version": "2.0.0",
      "model_name": "FloatProgressModel",
      "state": {
       "bar_style": "success",
       "layout": "IPY_MODEL_72aae25e22b7471dadb4460e6c3e7f18",
       "max": 15,
       "style": "IPY_MODEL_a56d680f285e468cb1bc01a103b3d42e",
       "value": 15
      }
     },
     "0ded11ef0e6a4a288d0d73cd3fa15c55": {
      "model_module": "@jupyter-widgets/controls",
      "model_module_version": "2.0.0",
      "model_name": "FloatProgressModel",
      "state": {
       "bar_style": "success",
       "layout": "IPY_MODEL_4d178942f43e43339da8f0508aff7506",
       "max": 15,
       "style": "IPY_MODEL_4281a41d92384d519fa4b22ac3eb0b03",
       "value": 15
      }
     },
     "1ca4b6e438fb41689f4995f4371e1606": {
      "model_module": "@jupyter-widgets/controls",
      "model_module_version": "2.0.0",
      "model_name": "HTMLModel",
      "state": {
       "layout": "IPY_MODEL_ff34c14884964fd18bd338d426f84d80",
       "style": "IPY_MODEL_a601f552775e49fda11f2cf8af1548fe",
       "value": " 15/15 [00:03&lt;00:00,  4.90it/s]"
      }
     },
     "253eeb20b1584cdc8f114c79f846b8d9": {
      "model_module": "@jupyter-widgets/controls",
      "model_module_version": "2.0.0",
      "model_name": "HTMLModel",
      "state": {
       "layout": "IPY_MODEL_fd74be0790914a34a7de54ce793afe79",
       "style": "IPY_MODEL_3eefba216b4546d29bf87d609f5b56f9",
       "value": "100%"
      }
     },
     "3dfeae3003b148a2ba34e360be33861b": {
      "model_module": "@jupyter-widgets/controls",
      "model_module_version": "2.0.0",
      "model_name": "HBoxModel",
      "state": {
       "children": [
        "IPY_MODEL_253eeb20b1584cdc8f114c79f846b8d9",
        "IPY_MODEL_0ded11ef0e6a4a288d0d73cd3fa15c55",
        "IPY_MODEL_1ca4b6e438fb41689f4995f4371e1606"
       ],
       "layout": "IPY_MODEL_4a71a995e7254fecb24cfa88bad97ade"
      }
     },
     "3eefba216b4546d29bf87d609f5b56f9": {
      "model_module": "@jupyter-widgets/controls",
      "model_module_version": "2.0.0",
      "model_name": "HTMLStyleModel",
      "state": {
       "description_width": "",
       "font_size": null,
       "text_color": null
      }
     },
     "4281a41d92384d519fa4b22ac3eb0b03": {
      "model_module": "@jupyter-widgets/controls",
      "model_module_version": "2.0.0",
      "model_name": "ProgressStyleModel",
      "state": {
       "description_width": ""
      }
     },
     "472d8e71becd48a8835cf295c949277a": {
      "model_module": "@jupyter-widgets/controls",
      "model_module_version": "2.0.0",
      "model_name": "HTMLStyleModel",
      "state": {
       "description_width": "",
       "font_size": null,
       "text_color": null
      }
     },
     "4a71a995e7254fecb24cfa88bad97ade": {
      "model_module": "@jupyter-widgets/base",
      "model_module_version": "2.0.0",
      "model_name": "LayoutModel",
      "state": {}
     },
     "4d178942f43e43339da8f0508aff7506": {
      "model_module": "@jupyter-widgets/base",
      "model_module_version": "2.0.0",
      "model_name": "LayoutModel",
      "state": {}
     },
     "72aae25e22b7471dadb4460e6c3e7f18": {
      "model_module": "@jupyter-widgets/base",
      "model_module_version": "2.0.0",
      "model_name": "LayoutModel",
      "state": {}
     },
     "8018c1dadbeb41bebb9059794430bfdf": {
      "model_module": "@jupyter-widgets/controls",
      "model_module_version": "2.0.0",
      "model_name": "HTMLStyleModel",
      "state": {
       "description_width": "",
       "font_size": null,
       "text_color": null
      }
     },
     "8470b34df2c648abb2856899787ed9f7": {
      "model_module": "@jupyter-widgets/controls",
      "model_module_version": "2.0.0",
      "model_name": "HTMLModel",
      "state": {
       "layout": "IPY_MODEL_a0ecfe73d3124b00ad6e30b5750394f5",
       "style": "IPY_MODEL_472d8e71becd48a8835cf295c949277a",
       "value": "100%"
      }
     },
     "8e2110d56e6141f9b543696a96aed25e": {
      "model_module": "@jupyter-widgets/controls",
      "model_module_version": "2.0.0",
      "model_name": "HBoxModel",
      "state": {
       "children": [
        "IPY_MODEL_8470b34df2c648abb2856899787ed9f7",
        "IPY_MODEL_033aa4240e9d45b9b525b5becf5582fc",
        "IPY_MODEL_beac34e676a54c1bb80914f8056da6cd"
       ],
       "layout": "IPY_MODEL_e97b5dac347f43188286a67f95b07c48"
      }
     },
     "a0ecfe73d3124b00ad6e30b5750394f5": {
      "model_module": "@jupyter-widgets/base",
      "model_module_version": "2.0.0",
      "model_name": "LayoutModel",
      "state": {}
     },
     "a56d680f285e468cb1bc01a103b3d42e": {
      "model_module": "@jupyter-widgets/controls",
      "model_module_version": "2.0.0",
      "model_name": "ProgressStyleModel",
      "state": {
       "description_width": ""
      }
     },
     "a601f552775e49fda11f2cf8af1548fe": {
      "model_module": "@jupyter-widgets/controls",
      "model_module_version": "2.0.0",
      "model_name": "HTMLStyleModel",
      "state": {
       "description_width": "",
       "font_size": null,
       "text_color": null
      }
     },
     "acbdb90aa64a497f802647378958d40f": {
      "model_module": "@jupyter-widgets/base",
      "model_module_version": "2.0.0",
      "model_name": "LayoutModel",
      "state": {}
     },
     "beac34e676a54c1bb80914f8056da6cd": {
      "model_module": "@jupyter-widgets/controls",
      "model_module_version": "2.0.0",
      "model_name": "HTMLModel",
      "state": {
       "layout": "IPY_MODEL_acbdb90aa64a497f802647378958d40f",
       "style": "IPY_MODEL_8018c1dadbeb41bebb9059794430bfdf",
       "value": " 15/15 [00:11&lt;00:00,  1.27it/s]"
      }
     },
     "e97b5dac347f43188286a67f95b07c48": {
      "model_module": "@jupyter-widgets/base",
      "model_module_version": "2.0.0",
      "model_name": "LayoutModel",
      "state": {}
     },
     "fd74be0790914a34a7de54ce793afe79": {
      "model_module": "@jupyter-widgets/base",
      "model_module_version": "2.0.0",
      "model_name": "LayoutModel",
      "state": {}
     },
     "ff34c14884964fd18bd338d426f84d80": {
      "model_module": "@jupyter-widgets/base",
      "model_module_version": "2.0.0",
      "model_name": "LayoutModel",
      "state": {}
     }
    },
    "version_major": 2,
    "version_minor": 0
   }
  }
 },
 "nbformat": 4,
 "nbformat_minor": 5
}
